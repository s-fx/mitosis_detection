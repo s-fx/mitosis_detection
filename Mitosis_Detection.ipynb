{
 "cells": [
  {
   "cell_type": "markdown",
   "metadata": {},
   "source": [
    "# Übung 3 - Merkmalsextraktion "
   ]
  },
  {
   "cell_type": "markdown",
   "metadata": {},
   "source": [
    "**Name:** Scholler Felix\n",
    "<br>\n",
    "**Matr.-Nr.:** s0571019\n",
    "\n",
    "---"
   ]
  },
  {
   "cell_type": "markdown",
   "metadata": {},
   "source": [
    "## Bearbeitungszeitraum\n",
    "\n",
    "**Bearbeitungsbegin:** Montag, 13.12.2021\n",
    "<br>\n",
    "**Abgabe:** Fr, 11.02.2022, 23:59 Uhr\n",
    "\n",
    "---"
   ]
  },
  {
   "cell_type": "markdown",
   "metadata": {},
   "source": [
    "## Aufgabenbeschreibung"
   ]
  },
  {
   "cell_type": "markdown",
   "metadata": {},
   "source": [
    "### Generelle Hinweise zur Bearbeitung: \n",
    "\n",
    "Die Herausforderung dieser Übungsaufgabe ist es, dass mehrere Phasen der Bildverarbeitung aufeinander aufbauend umgesetzt werden müssen.\n",
    "\n",
    "Zudem ist die Planung sowie die Durchführung des Lösungsweges (ohne konkrete Vorgaben) Ihnen überlassen.\n",
    "\n",
    "Sie sollten jedoch folgende allgemeine und hilfreiche \"Werkzeuge\" in Betracht ziehen, wobei nicht alle davon für Ihren Lösungsweg relevant sein müssen:\n",
    "\n",
    "**Phasen der Bildverarbeitung:**\n",
    "1. Bild öffnen\n",
    "2. Bildvorverarbeitung\n",
    "3. Segmentierung\n",
    "4. Objekterkennung\n",
    "5. Analyse\n",
    "6. Visualisierung\n",
    "\n",
    "**Zur Segmentierung:**\n",
    "1. Iterative Berechnung des optimalen Schwellenwertes\n",
    "2. Histogrammanalyse für multimodale Histogramme\n",
    "\n",
    "**Zur Objekterkennung**\n",
    "1. Algorithmus zur Detektion von geometrischen Strukturen\n",
    "2. Berechnung geeigneter Merkmale\n"
   ]
  },
  {
   "cell_type": "markdown",
   "metadata": {},
   "source": [
    "\n",
    "### Hinweise zur Abgabe und zur Benotung\n",
    "\n",
    "- Füllen Sie unbedingt die erste Zelle unterhalb der Überschrift mit Name und Matr.-Nr. aus!\n",
    "- Ergänzen Sie den Dateinamen des Notebooks vor der Abgabe um `_` und Ihre Matr.-Nr. (`Uebung 3 - Merkmalsextraktion_Quantifizierung_s0500001.ipynb`).\n",
    "- Setzen Sie vor der Abgabe den Kernel zurück und testen Sie, ob Ihr Notebook vollständing ausgeführt werden kann!\n",
    "- Entfernen Sie vor dem Upload alle Ausgaben aus dem Notebook!\n",
    "- Die Bilddateien müssen nicht abgegeben werden.\n",
    "\n",
    "**Hinweise zur Benotung**\n",
    "\n",
    "- Die Aufgabe wird nach dem üblichen Notenschema von 1,0 bis 5,0 bewertet.\n",
    "- Diese Aufgabe wird mit 40% in der Gesamtnote der Übung gewichtet.\n",
    "\n",
    "### Viel Erfolg!"
   ]
  },
  {
   "cell_type": "markdown",
   "metadata": {},
   "source": [
    "---"
   ]
  },
  {
   "cell_type": "markdown",
   "metadata": {},
   "source": [
    "## Aufgabenbeschreibung\n",
    "\n",
    "Das Verzeichnis `mitosis_data_set` enthält 20 Bilder von histologischem Gewebe, in denen **0 bis n** Mitosen enthalten sind.\n",
    "\n",
    "Mitosen sind in diesen Bildern als bräunliche, relativ große und zusammenhängende Strukturen erkennbar.\n",
    "\n",
    "Die Anzahl der Mitosen kann dem Bildnamen entnommen werden:\n",
    "`Bildnummer_Mistosenzahl.png`\n",
    "\n",
    "Der Datensatz stammt aus einem Forschungsprojekt der Charité Berlin und wurde von einem Projektpartner in Bern digitalisiert. \n",
    "\n",
    "### Aufgabe\n",
    "\n",
    "Implementieren Sie eine Bildverarbeitungs-Pipeline und bestimmen Sie für jedes Bild im Verzeichnis `mitosis_data_set` die Anzahl der sich im jeweiligen Bild befindenden Mitosen.\n",
    "\n",
    "Stellen Sie Ihr Ergebnis pro Bild wie folgt dar:\n",
    "1. Plot des Bildes (mit der bereits bekannten Formatierung &rarr; keine Metadaten und keine Achsen)\n",
    "2. mindestens 1 extra Plot, aus dem hervorgeht, welche Bereiche des Bildes von Ihnen für die Quantifizierung ausgezählt wurden. Dies kann z.B. sein:\n",
    "    - Binärbild, Mitosen als weißer Vordergund\n",
    "    - Kontur um Mitose\n",
    "    - Punkt zur Markierung einer Mitose\n",
    "3. eine Textzeile in der Form `gefundene Mitosen im Bild: X`\n",
    "\n",
    "Eine Möglichkeit den Output anzuordnen wäre z.B.:\n",
    "- Bild und Markierungs-Plot nebeneinander mit dem Dateinamen als gemeinsamer Überschrift\n",
    "- Mitosenanzahl als zusätzliche Beschriftung des Gesamtplots (z.B. mittels [annotate](https://matplotlib.org/stable/api/_as_gen/matplotlib.pyplot.annotate.html#matplotlib.pyplot.annotate) oder [figtext](https://matplotlib.org/stable/api/_as_gen/matplotlib.pyplot.figtext.html#matplotlib.pyplot.figtext))\n",
    "\n",
    "## Hinweise zur Bewertung\n",
    "\n",
    "Ihre Lösung wird für die Benotung auch an anderen Bildern getestet (die Bilder stammen aus dem gleichen Datensatz und enthalten **keine** zusätzlichen Schwierigkeiten)\n",
    "\n",
    "Bewertet wird:\n",
    "- Das Ergebnis (Anzahl gefundener Mitosen)\n",
    "- Der Lösungsweg\n",
    "  - Die Verwendung von Konstanten, die Sie durch ausprobieren gefunden haben, wird nicht gerne gesehen\n",
    "    - Jeder Wert einer Konstanten **muss** begründet werden!\n",
    "- Fehlerresistenz und Allgemeingültigkeit (Test mit anderen Bildern)\n",
    "\n",
    "## Hinweise zur Bearbeitung\n",
    "\n",
    "- Die Anzahl der Mitosen (aus dem Bildnamen) darf in Ihrer Lösung **nicht** verwendet werden\n",
    "  - Sie können natürlich eine Validierung durchführen, bei der Sie Ihr Ergebnis mit der tatsächlichen Anzahl vergleichen, um zu sehen, wie viele Bilder korrekt verarbeitet worden sind\n",
    "    - trennen Sie diesen Code von Ihrer Lösung\n",
    "- Die Bilder sind sehr hochaufgelöst digitalisiert worden:\n",
    "  - Die Auflösung der Digitalisierung beträgt: 0.1213 mpp &rarr; mpp = microns per pixel = Mikrometer pro Pixel\n",
    "  - Ein Zellkern bei Säugetieren ist ca. 5 bis 15 Mikrometer groß (je nach Gewebeart)\n",
    "  - Aus diesen beiden Angaben können Sie nun über Domänenwissen kleine Artefakte **begründet** aussortieren\n",
    "    - Sie sollten hier vorsichtig vorgehen, damit Sie keine relevanten Objekte verwerfen. Starten Sie mit einer Mindestgröße von weniger als 5 Mikrometern. Wenn Ihnen zu viele Artefakte durchrutschen passen Sie den Wert vorsichtig an.\n",
    "- Die Farbraumauffaltung (color deconvolution) könnte hilfreich sein\n",
    "  - siehe hier [https://scikit-image.org/docs/dev/auto_examples/color_exposure/plot_ihc_color_separation.html?highlight=color%20deconv](https://scikit-image.org/docs/dev/auto_examples/color_exposure/plot_ihc_color_separation.html?highlight=color%20deconv)\n",
    "  - die Bilder dieser Übung sind vergleichbar zum obigen Beispiel angefärbt\n",
    "    - 3,3-Diaminobenzidin (DAB) &rarr; bräunlich\n",
    "    - Hämatoxylin (H) &rarr; bläulich\n",
    "- Für die Erstellung eines Binärbildes sollte der Schwellwert aus dem Grauwertbild bestimmt werden\n",
    "  - dies kann z.B. mit dem Otsu-Verfahren realisiert werden [https://scikit-image.org/docs/dev/api/skimage.filters.html?highlight=otsu#skimage.filters.threshold_otsu](https://scikit-image.org/docs/dev/api/skimage.filters.html?highlight=otsu#skimage.filters.threshold_otsu)"
   ]
  },
  {
   "cell_type": "code",
   "execution_count": null,
   "metadata": {},
   "outputs": [],
   "source": [
    "# Plots werden inline im Notebook angezeigt\n",
    "%matplotlib inline\n",
    "import glob\n",
    "import cv2 as cv\n",
    "import matplotlib.pyplot as plt\n",
    "import seaborn as sb\n",
    "import ipywidgets as widgets\n",
    "from ipywidgets import interact, fixed, Layout\n",
    "from IPython.display import Image\n",
    "from io import BytesIO\n",
    "import matplotlib as mpl\n",
    "import numpy as np\n",
    "import random as rng"
   ]
  },
  {
   "cell_type": "code",
   "execution_count": null,
   "metadata": {},
   "outputs": [],
   "source": [
    "from IPython.core.display import display, HTML\n",
    "display(HTML(\"<style>.container { width:80% !important; }</style>\"))"
   ]
  },
  {
   "cell_type": "code",
   "execution_count": null,
   "metadata": {},
   "outputs": [],
   "source": [
    "# plot single image\n",
    "def plot_single(image, title, cmap):\n",
    "    plt.figure(figsize=(15,15))\n",
    "    plt.imshow(image, cmap=cmap)\n",
    "    plt.title(title, fontsize=25)\n",
    "    plt.axis('off')\n",
    "    plt.show();\n",
    "    \n",
    "# plot 20 images\n",
    "def plot_20(images, titles, cmap):\n",
    "    fig = plt.figure(figsize=(15,15))\n",
    "    for i, (image, title) in enumerate(zip(images, titles)):\n",
    "        fig.add_subplot(5,4,i+1)\n",
    "        plt.imshow(image, cmap=cmap)\n",
    "        plt.title(title, fontsize=15)\n",
    "        plt.axis(\"off\")\n",
    "       \n",
    "    plt.tight_layout()\n",
    "    plt.show();\n",
    "\n",
    "def plot_2(images, titles, cmap):\n",
    "    fig, axes = plt.subplots(1, 2, figsize=(15,15))\n",
    "    ax = axes.ravel()\n",
    "    \n",
    "    for i, (image, title) in enumerate(zip(images,titles)):\n",
    "        ax[i].imshow(image, cmap=cmap)\n",
    "        ax[i].set_title(title, fontsize=20)\n",
    "    for a in ax.ravel():\n",
    "        a.axis('off')            \n",
    "        fig.tight_layout()\n",
    "        \n",
    "\n",
    "# plot 4 images in einem 2x2 Raster\n",
    "def plotImages(images, titles, cmap):\n",
    "    plt.figure(figsize=(12,12))\n",
    "    for i, (image, title) in enumerate(zip(images, titles)):\n",
    "        plt.subplot(2,2,i+1)\n",
    "        plt.imshow(image, cmap=cmap)\n",
    "        plt.title(title, fontsize=20)\n",
    "        plt.axis(\"off\")\n",
    "       \n",
    "    plt.tight_layout()\n",
    "    plt.show();\n",
    "    "
   ]
  },
  {
   "cell_type": "code",
   "execution_count": null,
   "metadata": {},
   "outputs": [],
   "source": [
    "# Read images\n",
    "filenames = glob.glob(\"mitosis_data_set/*.png\")\n",
    "filenames.sort()\n",
    "images_orig = [cv.cvtColor(cv.imread(img), cv.COLOR_BGR2RGB) for img in filenames]\n",
    "\n",
    "for i, (im_name, img) in enumerate(zip(filenames, images_orig)):\n",
    "    print(f\"File {i} : {im_name} -- Shape : {img.shape} -- Type : {type(img)}\")\n",
    "    "
   ]
  },
  {
   "cell_type": "code",
   "execution_count": null,
   "metadata": {},
   "outputs": [],
   "source": [
    "# save number of Mitosis into real_nb_mitosis for validation\n",
    "real_nb_mitosis = []\n",
    "for name in filenames:\n",
    "    nb_mitosis = name[-5]\n",
    "    real_nb_mitosis.append(nb_mitosis)\n",
    "    print(f\"Number of Mitosis for file {name} :---: Number of Mitosis {nb_mitosis}\")"
   ]
  },
  {
   "cell_type": "markdown",
   "metadata": {},
   "source": [
    "## Finale Methode\n",
    "Erklärungen zu den einzelnen Schritten und Werten sind weiter unten gegeben."
   ]
  },
  {
   "cell_type": "code",
   "execution_count": null,
   "metadata": {},
   "outputs": [],
   "source": [
    "# Zwischenschritte plotten\n",
    "def plot_images(images,filename,nb_mitosis):\n",
    "    fig, ((ax1, ax2, ax3),(ax4, ax5, ax6)) = plt.subplots(nrows=2, ncols=3, figsize=(16,10))\n",
    "    fig.suptitle(filename, fontsize=20, y=0.98)\n",
    "\n",
    "    ax1.imshow(images[0])\n",
    "    ax1.axis('off')\n",
    "    ax1.set_title('Image RGB (original):', fontsize=15)\n",
    "\n",
    "    ax2.imshow(images[1])\n",
    "    ax2.axis('off')\n",
    "    ax2.set_title('Image HSV:', fontsize=15)\n",
    "\n",
    "    ax3.imshow(images[2])\n",
    "    ax3.axis('off')\n",
    "    ax3.set_title('Image with brown mask:', fontsize=15)\n",
    "\n",
    "    ax4.imshow(images[3])\n",
    "    ax4.axis('off')\n",
    "    ax4.set_title('Canny Filter:', fontsize=15)\n",
    "\n",
    "    ax5.imshow(images[4])\n",
    "    ax5.axis('off')\n",
    "    ax5.set_title('Morph-ops & without artefacts:', fontsize=15)\n",
    "\n",
    "    ax6.imshow(images[5])\n",
    "    ax6.axis('off')\n",
    "    ax6.set_title(f\"Found: {nb_mitosis} - Bounding Box\", fontsize=15)\n",
    "\n",
    "    fig.subplots_adjust(wspace=0.5, hspace=0.8, top=1.0,\n",
    "                        bottom=0.03, left=0.02, right=0.98)\n",
    "    plt.tight_layout()"
   ]
  },
  {
   "cell_type": "code",
   "execution_count": null,
   "metadata": {},
   "outputs": [],
   "source": [
    "def count_mitosis(image, filename, actual_nb_mitosis, show_plot=False):\n",
    "    all_images = [] # for final plotting\n",
    "    all_images.append(image)\n",
    "    \n",
    "    im_hsv = cv.cvtColor(image,cv.COLOR_RGB2HSV)\n",
    "    all_images.append(im_hsv)\n",
    "    \n",
    "    # create mask to only select brown objects\n",
    "    lower_brown = np.array([10,100,20])\n",
    "    upper_brown = np.array([20,255,200])\n",
    "    mask = cv.inRange(im_hsv, lower_brown, upper_brown)\n",
    "    \n",
    "    # use created mask \n",
    "    im_masked = cv.bitwise_and(image, image, mask=mask)\n",
    "    all_images.append(im_masked)\n",
    "    \n",
    "    im_gray = cv.cvtColor(im_masked,cv.COLOR_RGB2GRAY)\n",
    "    \n",
    "    # canny detector\n",
    "    min_thresh = 100 # Any edges below min_thresh are sure to be non-edges, so discarded.\n",
    "    max_thresh = 250 # Any edges with intensity gradient more than max_thresh are sure to be edges.\n",
    "    edge = cv.Canny(im_gray,min_thresh,max_thresh)\n",
    "    all_images.append(edge)\n",
    "   \n",
    "    # morph operations\n",
    "    kernel = np.ones((5,5), np.uint8)\n",
    "    closing = cv.morphologyEx(edge, cv.MORPH_CLOSE, kernel, iterations = 7)\n",
    "    opening = cv.morphologyEx(closing, cv.MORPH_OPEN, kernel, iterations = 3)\n",
    "    \n",
    "    \n",
    "    # count components and delete small artefacts\n",
    "    min_size = 530\n",
    "    nb_components, output, stats, centroids = cv.connectedComponentsWithStats(opening, connectivity=8)\n",
    "    sizes = stats[1:, -1]\n",
    "    nb_components = nb_components - 1\n",
    "    im_new = np.zeros((output.shape))\n",
    "    for i in range(0, nb_components):\n",
    "        if sizes[i] >= min_size:\n",
    "            im_new[output == i + 1] = 255\n",
    "            \n",
    "            \n",
    "    # converting image for further changes\n",
    "    im_without_artefacts = np.uint8(im_new)\n",
    "    all_images.append(im_without_artefacts)\n",
    "    \n",
    "    # find contours\n",
    "    contours, hierarchy = cv.findContours(im_without_artefacts, cv.RETR_TREE, cv.CHAIN_APPROX_SIMPLE)\n",
    "    \n",
    "    # plot bounding boxes \n",
    "    # https://docs.opencv.org/3.4/da/d0c/tutorial_bounding_rects_circles.html\n",
    "    contours, hierarchy = cv.findContours(im_without_artefacts, cv.RETR_TREE, cv.CHAIN_APPROX_SIMPLE)\n",
    "    contours_poly = [None]*len(contours)\n",
    "    boundRect = [None]*len(contours)\n",
    "    centers = [None]*len(contours)\n",
    "    radius = [None]*len(contours)\n",
    "    for i, c in enumerate(contours):\n",
    "        contours_poly[i] = cv.approxPolyDP(c, 3, True)\n",
    "        boundRect[i] = cv.boundingRect(contours_poly[i])\n",
    "        centers[i], radius[i] = cv.minEnclosingCircle(contours_poly[i])\n",
    "    #drawing = np.zeros((im.shape[0], im.shape[1], 3), dtype=np.uint8)\n",
    "    drawing = image.copy()\n",
    "    # Draw polygonal contour + bonding rects\n",
    "    for i in range(len(contours)):\n",
    "        color = (255, 10, 10)\n",
    "        cv.drawContours(drawing, contours_poly, i, color)\n",
    "        cv.rectangle(drawing, (int(boundRect[i][0]), int(boundRect[i][1])), \\\n",
    "            (int(boundRect[i][0]+boundRect[i][2]), int(boundRect[i][1]+boundRect[i][3])), color, 5)\n",
    "    all_images.append(drawing)\n",
    " \n",
    "\n",
    "    # validation\n",
    "    if int(actual_nb_mitosis) == int(len(contours)):\n",
    "        print(f\"CORRECT :) actual Mitosis in {filename} --> {actual_nb_mitosis} :--: your result {len(contours)}\")\n",
    "    else:\n",
    "        print(f\"WRONG :( actual Mitosis in {filename} --> {actual_nb_mitosis} :--: your result {len(contours)}\")\n",
    "    \n",
    "    if show_plot:\n",
    "        plot_images(all_images,filename,actual_nb_mitosis)"
   ]
  },
  {
   "cell_type": "code",
   "execution_count": null,
   "metadata": {
    "scrolled": false
   },
   "outputs": [],
   "source": [
    "print(f\"[!] Plotting can take some time\")\n",
    "show_plot = input(\"[*] Press 'y' to see plots for final image:\")\n",
    "if show_plot == \"y\":\n",
    "    for i,(im,filename,actual_nb_mitosis) in enumerate(zip(images_orig, filenames, real_nb_mitosis)):\n",
    "        count_mitosis(im,filename,actual_nb_mitosis,True)\n",
    "else:\n",
    "    for i,(im,filename,actual_nb_mitosis) in enumerate(zip(images_orig, filenames, real_nb_mitosis)):\n",
    "        count_mitosis(im,filename,actual_nb_mitosis,False)"
   ]
  },
  {
   "cell_type": "markdown",
   "metadata": {},
   "source": [
    "## Erklärungen und Zwischenschritte"
   ]
  },
  {
   "cell_type": "code",
   "execution_count": null,
   "metadata": {},
   "outputs": [],
   "source": [
    "plot_20(images_orig,filenames,None)"
   ]
  },
  {
   "cell_type": "markdown",
   "metadata": {},
   "source": [
    "Frage: Wie kann ich Objekte, die zwischen bestimmten Pixel Werte liegen (die Farbe Braun), erkennen? <br>\n",
    "Antwort: https://docs.opencv.org/3.4/da/d97/tutorial_threshold_inRange.html <br>\n",
    "Grund warum HSV anstatt RGB: https://handmap.github.io/hsv-vs-rgb/"
   ]
  },
  {
   "cell_type": "code",
   "execution_count": null,
   "metadata": {},
   "outputs": [],
   "source": [
    "images_hsv_orig = []\n",
    "for im in images_orig:\n",
    "    im_hsv = cv.cvtColor(im,cv.COLOR_RGB2HSV)\n",
    "    images_hsv_orig.append(im_hsv)\n",
    "\n",
    "plot_20(images_hsv_orig,filenames,None)    "
   ]
  },
  {
   "cell_type": "markdown",
   "metadata": {},
   "source": [
    "Range of HSV Values for Brown: https://stackoverflow.com/questions/46112326/what-is-the-range-of-hsv-values-for-brown-color-in-opencv <br>"
   ]
  },
  {
   "cell_type": "code",
   "execution_count": null,
   "metadata": {},
   "outputs": [],
   "source": [
    "# creating a mask to only select brown objects\n",
    "lower_brown = np.array([10, 100, 20])\n",
    "upper_brown = np.array([20, 255, 200])\n",
    "masks_brown = []\n",
    "for im in images_hsv_orig:\n",
    "    m_b = cv.inRange(im, lower_brown, upper_brown)\n",
    "    masks_brown.append(m_b)\n",
    "    \n",
    "plot_20(masks_brown,filenames,None)"
   ]
  },
  {
   "cell_type": "code",
   "execution_count": null,
   "metadata": {},
   "outputs": [],
   "source": [
    "# use the created mask on the original images\n",
    "images_cells = []\n",
    "\n",
    "for i, (im, mask) in enumerate(zip(images_orig, masks_brown)):\n",
    "    im_masked = cv.bitwise_and(im, im, mask=mask)\n",
    "    images_cells.append(im_masked)\n",
    "\n",
    "plot_20(images_cells,filenames,None)"
   ]
  },
  {
   "cell_type": "markdown",
   "metadata": {},
   "source": [
    "Canny Filter um Kanten zu erkennen"
   ]
  },
  {
   "cell_type": "code",
   "execution_count": null,
   "metadata": {
    "scrolled": false
   },
   "outputs": [],
   "source": [
    "# Automatic canny edge detection for getting min_thresh and max_thresh\n",
    "# https://www.pyimagesearch.com/2015/04/06/zero-parameter-automatic-canny-edge-detection-with-python-and-opencv/\n",
    "# hat leider nicht so gut funktioniert wie die Methode mittels min_thresh = 100 & max_thresh = 250, desshalb auskommentiert\n",
    "#images_gray = []\n",
    "\n",
    "#for im in images_cells:\n",
    "#    gray = cv.cvtColor(im,cv.COLOR_RGB2GRAY)\n",
    "#    images_gray.append(gray)\n",
    "\n",
    "#images_edges = []\n",
    "#sigma = 0.33\n",
    "#for im in images_gray:\n",
    "#    # Apply GaussianBlur to reduce image noise \n",
    "#    im = cv.GaussianBlur(im, (3, 3), 0)\n",
    "#    v = np.median(im)\n",
    "#    lower = int(max(0, (1.0 - sigma) * v))\n",
    "#    upper = int(min(255, (1.0 + sigma) * v))\n",
    "#    edged = cv.Canny(im, lower, upper)\n",
    "#    images_edges.append(edged)\n",
    "    \n",
    "#plot_20(images_edges,filenames,None)"
   ]
  },
  {
   "cell_type": "code",
   "execution_count": null,
   "metadata": {},
   "outputs": [],
   "source": [
    "images_gray = []\n",
    "\n",
    "for im in images_cells:\n",
    "    gray = cv.cvtColor(im,cv.COLOR_RGB2GRAY)\n",
    "    images_gray.append(gray)\n",
    "    \n",
    "    \n",
    "# Edge detection using Canny Filter\n",
    "# https://docs.opencv.org/3.4/da/d5c/tutorial_canny_detector.html minVal = 100, maxVal = 250, Verhältnis aus Doc entnommen\n",
    "# https://machinelearningknowledge.ai/learn-canny-edge-detection-with-opencv-canny-function/#4_Hysteresis_Thresholding\n",
    "images_edges = []\n",
    "min_thresh = 100 # Any edges below min_thresh are sure to be non-edges, so discarded.\n",
    "max_thresh = 250 # Any edges with intensity gradient more than max_thresh are sure to be edges.\n",
    "\n",
    "for im in images_gray:\n",
    "    edge = cv.Canny(im,0,0)\n",
    "    images_edges.append(edge)\n",
    "\n",
    "plot_20(images_edges,filenames,None)"
   ]
  },
  {
   "cell_type": "code",
   "execution_count": null,
   "metadata": {},
   "outputs": [],
   "source": [
    "images_closing = []\n",
    "images_morph = []\n",
    "kernel = np.ones((5,5), np.uint8) \n",
    "# https://stackoverflow.com/questions/45070004/iterations-vs-kernel-size-in-morphological-operations-opencv\n",
    "\n",
    "# Zellkern bei Säugetieren 5-15 Mikrometer\n",
    "# Auflösung der Digitalisierung beträgt: 0.1213 mpp \n",
    "# Zellkern nimmt eine Größe von 5/0.1213 = +-41 Pixel bis +-123 Pixel ein\n",
    "for im in images_edges:\n",
    "    closing = cv.morphologyEx(im, cv.MORPH_CLOSE, kernel,iterations = 7)\n",
    "    images_closing.append(closing)\n",
    "    # Rauschen entfernen:\n",
    "    opening = cv.morphologyEx(closing, cv.MORPH_OPEN, kernel,iterations = 3)\n",
    "    images_morph.append(opening)"
   ]
  },
  {
   "cell_type": "code",
   "execution_count": null,
   "metadata": {},
   "outputs": [],
   "source": [
    "plot_20(images_closing,filenames,None)"
   ]
  },
  {
   "cell_type": "code",
   "execution_count": null,
   "metadata": {},
   "outputs": [],
   "source": [
    "plot_20(images_morph,filenames,None)"
   ]
  },
  {
   "cell_type": "code",
   "execution_count": null,
   "metadata": {
    "scrolled": false
   },
   "outputs": [],
   "source": [
    "# Entfernen kleinerer Artefakte aus dem Bild: https://stackoverflow.com/questions/42798659/how-to-remove-small-connected-objects-using-opencv\n",
    "images_final = []\n",
    "images_nb_components = []\n",
    "\n",
    "# Minimum Größe von Bildkomponenten die wir behalten möchten\n",
    "# Dieser Wert wurde gefunden, mittels Size of potential Mitosis (siehe unten) \n",
    "# Bspw. 4 components gefunden es sollten \n",
    "# aber nur 2 sein (kleinste Größe einer gefunden Mitosis 537)\n",
    "min_size = 530      \n",
    "\n",
    "\n",
    "for i,(img,nb_mitosis) in enumerate(zip(images_morph,real_nb_mitosis)):\n",
    "    # alle Komponenten finden \n",
    "    nb_components, output, stats, centroids = cv.connectedComponentsWithStats(img,connectivity=8)\n",
    "    # connectedComponentswithStats gib zu jeder Komponente Informationen zurück, bspw. Größe\n",
    "    # Hintergrund zählt auch als Komponente, desshalb löschen wir diese aus der Anzahl an Komponenten\n",
    "    sizes = stats[1:, -1]\n",
    "    nb_components = nb_components - 1   # lösche Hintergrund\n",
    "    \n",
    "   \n",
    "    print(\"----------------------------------------------------------------------------\")\n",
    "    for i in range(1, nb_components+1):\n",
    "        x = stats[i, cv.CC_STAT_LEFT]\n",
    "        y = stats[i, cv.CC_STAT_TOP]\n",
    "        w = stats[i, cv.CC_STAT_WIDTH]\n",
    "        h = stats[i, cv.CC_STAT_HEIGHT]\n",
    "        area = stats[i, cv.CC_STAT_AREA] # The total area (in pixels) of the connected component\n",
    "        print(f\"Width: {w}\")\n",
    "        print(f\"Height: {h}\")\n",
    "        print(f\"X: {x}\")\n",
    "        print(f\"Y: {y}\")\n",
    "        print(f\"Area: {area}\")\n",
    "        print(\"**********\")\n",
    "\n",
    "    \n",
    "    #print(\"----------------------------------------------------------------------------\")\n",
    "    print(f\"Number of components in the image without background: {nb_components}\")\n",
    "    print(f\"Area of potential Mitosis: {sizes}\")\n",
    "    print(f\"Number of possible Mitosis inside image: {nb_components} :----: actual number of Mitosis: {nb_mitosis}\")\n",
    "    if int(nb_components) is not int(nb_mitosis):\n",
    "        print(f\"WRONG number of Mitosis not correct: {nb_components} :----: {nb_mitosis}\")\n",
    "    print(\"----------------------------------------------------------------------------\")\n",
    "    images_nb_components.append(nb_components)\n",
    "    # Finales Bild \n",
    "    img_new = np.zeros((output.shape))\n",
    "    # Komponenten unterhalb min_size werden gelöscht\n",
    "    for i in range(0, nb_components):\n",
    "        if sizes[i] >= min_size:\n",
    "            img_new[output == i + 1] = 255\n",
    "    images_final.append(img_new)"
   ]
  },
  {
   "cell_type": "code",
   "execution_count": null,
   "metadata": {
    "scrolled": false
   },
   "outputs": [],
   "source": [
    "# Finalen Bilder\n",
    "plot_20(images_final,filenames,None)"
   ]
  },
  {
   "cell_type": "code",
   "execution_count": null,
   "metadata": {
    "scrolled": false
   },
   "outputs": [],
   "source": [
    "images_box = []\n",
    "# plot bounding boxes \n",
    "# https://docs.opencv.org/3.4/da/d0c/tutorial_bounding_rects_circles.html\n",
    "for i,(im_orig,im_final,filename) in enumerate(zip(images_orig,images_final,filenames)):\n",
    "    im_final = np.uint8(im_final)\n",
    "    contours, hierarchy = cv.findContours(im_final, cv.RETR_TREE, cv.CHAIN_APPROX_SIMPLE)\n",
    "    contours_poly = [None]*len(contours)\n",
    "    boundRect = [None]*len(contours)\n",
    "    centers = [None]*len(contours)\n",
    "    radius = [None]*len(contours)\n",
    "    for i, c in enumerate(contours):\n",
    "        contours_poly[i] = cv.approxPolyDP(c, 3, True)\n",
    "        boundRect[i] = cv.boundingRect(contours_poly[i])\n",
    "        centers[i], radius[i] = cv.minEnclosingCircle(contours_poly[i])\n",
    "    # Draw polygonal contour + bonding rects\n",
    "    for i in range(len(contours)):\n",
    "        color = (255,10,10)\n",
    "        cv.drawContours(im_orig, contours_poly, i, color)\n",
    "        cv.rectangle(im_orig, (int(boundRect[i][0]), int(boundRect[i][1])), \\\n",
    "            (int(boundRect[i][0]+boundRect[i][2]), int(boundRect[i][1]+boundRect[i][3])), color, 5)\n",
    "    images_box.append(im_orig)\n",
    "\n",
    "plot_20(images_box,filenames,None)"
   ]
  },
  {
   "cell_type": "code",
   "execution_count": null,
   "metadata": {},
   "outputs": [],
   "source": []
  }
 ],
 "metadata": {
  "kernelspec": {
   "display_name": "Python 3 (ipykernel)",
   "language": "python",
   "name": "python3"
  },
  "language_info": {
   "codemirror_mode": {
    "name": "ipython",
    "version": 3
   },
   "file_extension": ".py",
   "mimetype": "text/x-python",
   "name": "python",
   "nbconvert_exporter": "python",
   "pygments_lexer": "ipython3",
   "version": "3.8.10"
  }
 },
 "nbformat": 4,
 "nbformat_minor": 4
}
